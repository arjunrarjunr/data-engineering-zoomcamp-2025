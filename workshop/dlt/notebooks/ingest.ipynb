{
 "cells": [
  {
   "cell_type": "code",
   "execution_count": 19,
   "id": "8e9cf75a",
   "metadata": {},
   "outputs": [
    {
     "name": "stdout",
     "output_type": "stream",
     "text": [
      "\u001b[39mdlt 1.6.1\u001b[0m\n"
     ]
    }
   ],
   "source": [
    "! dlt --version"
   ]
  },
  {
   "cell_type": "code",
   "execution_count": 12,
   "id": "c6ccca8c-e0fd-4190-b7ab-59b409934bc1",
   "metadata": {},
   "outputs": [],
   "source": [
    "import dlt\n",
    "from dlt.sources.helpers.rest_client import RESTClient\n",
    "from dlt.sources.helpers.rest_client.paginators import PageNumberPaginator"
   ]
  },
  {
   "cell_type": "code",
   "execution_count": 13,
   "id": "80e06d01",
   "metadata": {},
   "outputs": [],
   "source": [
    "@dlt.resource(name=\"rides\",write_disposition=\"append\")\n",
    "def nyc_taxi_rides():\n",
    "    \"\"\"\n",
    "    This source retrieves NYC taxi rides from the NYC Taxi & Limousine Commission's API.\n",
    "    \"\"\"\n",
    "    client = RESTClient(\n",
    "        base_url=\"https://us-central1-dlthub-analytics.cloudfunctions.net/\",\n",
    "        paginator=PageNumberPaginator(base_page=1, total_path=None),\n",
    "    )\n",
    "\n",
    "    for page in client.paginate(\"data_engineering_zoomcamp_api\"):\n",
    "        yield page"
   ]
  },
  {
   "cell_type": "code",
   "execution_count": 14,
   "id": "7358c175",
   "metadata": {},
   "outputs": [],
   "source": [
    "# Define the DLTHub pipeline\n",
    "pipeline = dlt.pipeline(\n",
    "    pipeline_name=\"nyc_taxi\",\n",
    "    destination=\"bigquery\",\n",
    "    dataset_name=\"nyc_taxi_dataset\",\n",
    ")"
   ]
  },
  {
   "cell_type": "code",
   "execution_count": 15,
   "id": "9fb59650",
   "metadata": {},
   "outputs": [
    {
     "data": {
      "text/plain": [
       "LoadInfo(pipeline=<dlt.pipeline.pipeline.Pipeline object at 0x70b9cb8e2510>, metrics={'1739768351.6999278': [{'started_at': DateTime(2025, 2, 17, 4, 59, 39, 686621, tzinfo=Timezone('UTC')), 'finished_at': DateTime(2025, 2, 17, 4, 59, 58, 361322, tzinfo=Timezone('UTC')), 'job_metrics': {'_dlt_pipeline_state.436a2ceb5b.jsonl': LoadJobMetrics(job_id='_dlt_pipeline_state.436a2ceb5b.jsonl', file_path='/var/dlt/pipelines/nyc_taxi/load/normalized/1739768351.6999278/started_jobs/_dlt_pipeline_state.436a2ceb5b.0.jsonl', table_name='_dlt_pipeline_state', started_at=DateTime(2025, 2, 17, 4, 59, 50, 788883, tzinfo=Timezone('UTC')), finished_at=DateTime(2025, 2, 17, 4, 59, 54, 622783, tzinfo=Timezone('UTC')), state='completed', remote_url=None), 'rides.af77b7fd80.jsonl': LoadJobMetrics(job_id='rides.af77b7fd80.jsonl', file_path='/var/dlt/pipelines/nyc_taxi/load/normalized/1739768351.6999278/started_jobs/rides.af77b7fd80.0.jsonl', table_name='rides', started_at=DateTime(2025, 2, 17, 4, 59, 50, 837812, tzinfo=Timezone('UTC')), finished_at=DateTime(2025, 2, 17, 4, 59, 54, 762854, tzinfo=Timezone('UTC')), state='completed', remote_url=None)}}]}, destination_type='dlt.destinations.bigquery', destination_displayable_credentials='terraform-runner@de-zoomcamp-448516.iam.gserviceaccount.com@de-zoomcamp-448516', destination_name='bigquery', environment=None, staging_type=None, staging_name=None, staging_displayable_credentials=None, destination_fingerprint='YkGeKjdEw7K7QLp752Y1', dataset_name='nyc_taxi_dataset', loads_ids=['1739768351.6999278'], load_packages=[LoadPackageInfo(load_id='1739768351.6999278', package_path='/var/dlt/pipelines/nyc_taxi/load/loaded/1739768351.6999278', state='loaded', schema=Schema nyc_taxi at 123943463678608, schema_update={'rides': {'columns': {'end_lat': {'name': 'end_lat', 'data_type': 'double', 'nullable': True}, 'end_lon': {'name': 'end_lon', 'data_type': 'double', 'nullable': True}, 'fare_amt': {'name': 'fare_amt', 'data_type': 'double', 'nullable': True}, 'passenger_count': {'name': 'passenger_count', 'data_type': 'bigint', 'nullable': True}, 'payment_type': {'name': 'payment_type', 'data_type': 'text', 'nullable': True}, 'start_lat': {'name': 'start_lat', 'data_type': 'double', 'nullable': True}, 'start_lon': {'name': 'start_lon', 'data_type': 'double', 'nullable': True}, 'tip_amt': {'name': 'tip_amt', 'data_type': 'double', 'nullable': True}, 'tolls_amt': {'name': 'tolls_amt', 'data_type': 'double', 'nullable': True}, 'total_amt': {'name': 'total_amt', 'data_type': 'double', 'nullable': True}, 'trip_distance': {'name': 'trip_distance', 'data_type': 'double', 'nullable': True}, 'trip_dropoff_date_time': {'name': 'trip_dropoff_date_time', 'data_type': 'timestamp', 'nullable': True}, 'trip_pickup_date_time': {'name': 'trip_pickup_date_time', 'data_type': 'timestamp', 'nullable': True}, 'surcharge': {'name': 'surcharge', 'data_type': 'double', 'nullable': True}, 'vendor_name': {'name': 'vendor_name', 'data_type': 'text', 'nullable': True}, '_dlt_load_id': {'name': '_dlt_load_id', 'data_type': 'text', 'nullable': False}, '_dlt_id': {'name': '_dlt_id', 'data_type': 'text', 'nullable': False, 'unique': True, 'row_key': True}, 'store_and_forward': {'name': 'store_and_forward', 'data_type': 'double', 'nullable': True}}, 'write_disposition': 'append', 'name': 'rides', 'resource': 'rides', 'x-normalizer': {'seen-data': True}, 'x-bigquery-table-description': None, 'x-bigquery-autodetect-schema': False}, '_dlt_loads': {'name': '_dlt_loads', 'columns': {'load_id': {'name': 'load_id', 'data_type': 'text', 'nullable': False}, 'schema_name': {'name': 'schema_name', 'data_type': 'text', 'nullable': True}, 'status': {'name': 'status', 'data_type': 'bigint', 'nullable': False}, 'inserted_at': {'name': 'inserted_at', 'data_type': 'timestamp', 'nullable': False}, 'schema_version_hash': {'name': 'schema_version_hash', 'data_type': 'text', 'nullable': True}}, 'write_disposition': 'skip', 'resource': '_dlt_loads', 'description': 'Created by DLT. Tracks completed loads'}, '_dlt_pipeline_state': {'columns': {'version': {'name': 'version', 'data_type': 'bigint', 'nullable': False}, 'engine_version': {'name': 'engine_version', 'data_type': 'bigint', 'nullable': False}, 'pipeline_name': {'name': 'pipeline_name', 'data_type': 'text', 'nullable': False}, 'state': {'name': 'state', 'data_type': 'text', 'nullable': False}, 'created_at': {'name': 'created_at', 'data_type': 'timestamp', 'nullable': False}, 'version_hash': {'name': 'version_hash', 'data_type': 'text', 'nullable': True}, '_dlt_load_id': {'name': '_dlt_load_id', 'data_type': 'text', 'nullable': False}, '_dlt_id': {'name': '_dlt_id', 'data_type': 'text', 'nullable': False, 'unique': True, 'row_key': True}}, 'write_disposition': 'append', 'file_format': 'preferred', 'name': '_dlt_pipeline_state', 'resource': '_dlt_pipeline_state', 'x-normalizer': {'seen-data': True}}, '_dlt_version': {'name': '_dlt_version', 'columns': {'version': {'name': 'version', 'data_type': 'bigint', 'nullable': False}, 'engine_version': {'name': 'engine_version', 'data_type': 'bigint', 'nullable': False}, 'inserted_at': {'name': 'inserted_at', 'data_type': 'timestamp', 'nullable': False}, 'schema_name': {'name': 'schema_name', 'data_type': 'text', 'nullable': False}, 'version_hash': {'name': 'version_hash', 'data_type': 'text', 'nullable': False}, 'schema': {'name': 'schema', 'data_type': 'text', 'nullable': False}}, 'write_disposition': 'skip', 'resource': '_dlt_version', 'description': 'Created by DLT. Tracks schema updates'}}, completed_at=DateTime(2025, 2, 17, 4, 59, 58, 340260, tzinfo=Timezone('UTC')), jobs={'failed_jobs': [], 'completed_jobs': [LoadJobInfo(state='completed_jobs', file_path='/var/dlt/pipelines/nyc_taxi/load/loaded/1739768351.6999278/completed_jobs/_dlt_pipeline_state.436a2ceb5b.0.jsonl', file_size=481, created_at=DateTime(2025, 2, 17, 4, 59, 39, 653285, tzinfo=Timezone('UTC')), elapsed=18.68697476387024, job_file_info=ParsedLoadJobFileName(table_name='_dlt_pipeline_state', file_id='436a2ceb5b', retry_count=0, file_format='jsonl'), failed_message=None), LoadJobInfo(state='completed_jobs', file_path='/var/dlt/pipelines/nyc_taxi/load/loaded/1739768351.6999278/completed_jobs/rides.af77b7fd80.0.jsonl', file_size=510730, created_at=DateTime(2025, 2, 17, 4, 59, 39, 653285, tzinfo=Timezone('UTC')), elapsed=18.68697476387024, job_file_info=ParsedLoadJobFileName(table_name='rides', file_id='af77b7fd80', retry_count=0, file_format='jsonl'), failed_message=None)], 'started_jobs': [], 'new_jobs': []})], first_run=False)"
      ]
     },
     "execution_count": 15,
     "metadata": {},
     "output_type": "execute_result"
    }
   ],
   "source": [
    "# Ingest data into the pipeline\n",
    "pipeline.run(nyc_taxi_rides)"
   ]
  },
  {
   "cell_type": "code",
   "execution_count": null,
   "id": "3a03f88f",
   "metadata": {},
   "outputs": [
    {
     "name": "stdout",
     "output_type": "stream",
     "text": [
      "[Row((-12.298199999999992,), {'f0_': 0})]\n"
     ]
    }
   ],
   "source": [
    "with pipeline.sql_client() as client:\n",
    "    res = client.execute_sql(\n",
    "            \"\"\"\n",
    "            SELECT\n",
    "            AVG(date_diff(trip_dropoff_date_time, trip_pickup_date_time,MINUTE))\n",
    "            FROM rides;\n",
    "            \"\"\"\n",
    "        )\n",
    "    # Prints column values of the first row\n",
    "    print(res)"
   ]
  }
 ],
 "metadata": {
  "kernelspec": {
   "display_name": "Python 3 (ipykernel)",
   "language": "python",
   "name": "python3"
  },
  "language_info": {
   "codemirror_mode": {
    "name": "ipython",
    "version": 3
   },
   "file_extension": ".py",
   "mimetype": "text/x-python",
   "name": "python",
   "nbconvert_exporter": "python",
   "pygments_lexer": "ipython3",
   "version": "3.12.8"
  }
 },
 "nbformat": 4,
 "nbformat_minor": 5
}

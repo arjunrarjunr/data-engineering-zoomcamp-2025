{
 "cells": [
  {
   "cell_type": "code",
   "execution_count": 1,
   "id": "8e865f58-c682-4057-872d-8399bf868785",
   "metadata": {},
   "outputs": [],
   "source": [
    "from pyspark.sql import SparkSession\n",
    "\n"
   ]
  },
  {
   "cell_type": "code",
   "execution_count": 2,
   "id": "85ab6e2e-a121-4d87-9867-0abd17ff2a1c",
   "metadata": {},
   "outputs": [
    {
     "name": "stderr",
     "output_type": "stream",
     "text": [
      "Setting default log level to \"WARN\".\n",
      "To adjust logging level use sc.setLogLevel(newLevel). For SparkR, use setLogLevel(newLevel).\n",
      "25/03/06 20:36:45 INFO SparkEnv: Registering MapOutputTracker\n",
      "25/03/06 20:36:45 INFO SparkEnv: Registering BlockManagerMaster\n",
      "25/03/06 20:36:45 INFO SparkEnv: Registering BlockManagerMasterHeartbeat\n",
      "25/03/06 20:36:45 INFO SparkEnv: Registering OutputCommitCoordinator\n"
     ]
    }
   ],
   "source": [
    "# Initialize Spark session\n",
    "spark = SparkSession.builder \\\n",
    "    .appName(\"YellowTaxiDataProcessing\") \\\n",
    "    .config(\"spark.hadoop.fs.gs.impl\", \"com.google.cloud.hadoop.fs.gcs.GoogleHadoopFileSystem\") \\\n",
    "    .config(\"spark.hadoop.fs.gs.auth.service.account.enable\", \"true\") \\\n",
    "    .getOrCreate()\n",
    "\n"
   ]
  },
  {
   "cell_type": "code",
   "execution_count": 3,
   "id": "ddbe86f1-8efd-4c7c-b860-810906db9e73",
   "metadata": {},
   "outputs": [],
   "source": [
    "# Define input and output paths\n",
    "input_path = \"gs://de-arjunr/notebooks/jupyter/yellow_tripdata_2024-10.parquet\"\n",
    "output_path = \"gs://de-arjunr/notebooks/jupyter/op/op.parquet\"\n",
    "\n",
    "\n",
    "\n"
   ]
  },
  {
   "cell_type": "code",
   "execution_count": 4,
   "id": "7410ffe0-c080-45af-b8a9-442c7ffdcc02",
   "metadata": {},
   "outputs": [
    {
     "name": "stderr",
     "output_type": "stream",
     "text": [
      "                                                                                \r"
     ]
    }
   ],
   "source": [
    "# Read the Parquet file\n",
    "df = spark.read.parquet(input_path)\n",
    "\n"
   ]
  },
  {
   "cell_type": "raw",
   "id": "5670b483-a537-4824-9a48-72f67389c99b",
   "metadata": {},
   "source": [
    "# Repartition the data (e.g., into 10 partitions)\n",
    "repartitioned_df = df.repartition(4)"
   ]
  },
  {
   "cell_type": "raw",
   "id": "7a9e7bf1-e085-4f47-a8b6-f2a9c812722b",
   "metadata": {},
   "source": [
    "# Write back to Google Cloud Storage in Parquet format\n",
    "repartitioned_df.write.mode(\"overwrite\").parquet(output_path)\n"
   ]
  },
  {
   "cell_type": "raw",
   "id": "ee691444-7bb0-4394-87da-70e3bb4579ef",
   "metadata": {
    "tags": []
   },
   "source": [
    "\n",
    "# Stop Spark session\n",
    "spark.stop()"
   ]
  },
  {
   "cell_type": "code",
   "execution_count": 15,
   "id": "68cb3fbe-4f79-4ce8-9e71-08de36d7bbf5",
   "metadata": {
    "tags": []
   },
   "outputs": [
    {
     "name": "stdout",
     "output_type": "stream",
     "text": [
      "Number of taxi trips on October 15th: 128893\n"
     ]
    }
   ],
   "source": [
    "from pyspark.sql.functions import col, to_date, unix_timestamp\n",
    "\n",
    "filtered_df = df.withColumn(\"pickup_date\", to_date(col(\"tpep_pickup_datetime\")))\n",
    "trips_oct_15 = filtered_df.filter(col(\"pickup_date\") == \"2024-10-15\").count()\n",
    "\n",
    "print(f\"Number of taxi trips on October 15th: {trips_oct_15}\")\n"
   ]
  },
  {
   "cell_type": "code",
   "execution_count": 16,
   "id": "5dd169ad-9759-4627-b2d1-59f1a65f0c86",
   "metadata": {
    "tags": []
   },
   "outputs": [
    {
     "name": "stderr",
     "output_type": "stream",
     "text": [
      "[Stage 21:>                                                         (0 + 2) / 2]\r"
     ]
    },
    {
     "name": "stdout",
     "output_type": "stream",
     "text": [
      "Longest trip duration in hours: 162.61777777777777\n"
     ]
    },
    {
     "name": "stderr",
     "output_type": "stream",
     "text": [
      "                                                                                \r"
     ]
    }
   ],
   "source": [
    "# Calculate trip duration in hours\n",
    "duration_df = df.withColumn(\"trip_duration_hours\", \n",
    "                            (unix_timestamp(col(\"tpep_dropoff_datetime\")) - unix_timestamp(col(\"tpep_pickup_datetime\"))) / 3600)\n",
    "\n",
    "# Find the longest trip\n",
    "longest_trip = duration_df.agg({'trip_duration_hours': 'max'}).collect()[0][0]\n",
    "\n",
    "print(f\"Longest trip duration in hours: {longest_trip}\")"
   ]
  },
  {
   "cell_type": "code",
   "execution_count": 17,
   "id": "631efc8f-7863-4bd1-91d3-1a98b59a9e6d",
   "metadata": {
    "tags": []
   },
   "outputs": [],
   "source": [
    "zone_lookup_path = \"gs://de-arjunr/notebooks/jupyter/taxi_zone_lookup.csv\""
   ]
  },
  {
   "cell_type": "code",
   "execution_count": 18,
   "id": "a5049e3a-4c16-4e7f-b1c2-fcf7de57c5cd",
   "metadata": {
    "tags": []
   },
   "outputs": [
    {
     "name": "stderr",
     "output_type": "stream",
     "text": [
      "[Stage 26:>                                                         (0 + 2) / 2]\r"
     ]
    },
    {
     "name": "stdout",
     "output_type": "stream",
     "text": [
      "Least frequent pickup location zone: Governor's Island/Ellis Island/Liberty Island\n"
     ]
    },
    {
     "name": "stderr",
     "output_type": "stream",
     "text": [
      "                                                                                \r"
     ]
    }
   ],
   "source": [
    "zone_df = spark.read.option(\"header\", \"true\").csv(zone_lookup_path)\n",
    "\n",
    "# Aggregate trip counts by pickup location\n",
    "pickup_counts = df.groupBy(\"PULocationID\").count()\n",
    "\n",
    "# Find the least frequent pickup location\n",
    "least_frequent_pickup = pickup_counts.orderBy(\"count\").limit(1)\n",
    "\n",
    "# Join with zone lookup to get the zone name\n",
    "least_frequent_zone = least_frequent_pickup.join(zone_df, pickup_counts.PULocationID == zone_df.LocationID, \"left\")\n",
    "\n",
    "# Get the zone name\n",
    "zone_name = least_frequent_zone.select(\"Zone\").collect()[0][0]\n",
    "\n",
    "print(f\"Least frequent pickup location zone: {zone_name}\")"
   ]
  }
 ],
 "metadata": {
  "kernelspec": {
   "display_name": "Python 3",
   "language": "python",
   "name": "python3"
  },
  "language_info": {
   "codemirror_mode": {
    "name": "ipython",
    "version": 3
   },
   "file_extension": ".py",
   "mimetype": "text/x-python",
   "name": "python",
   "nbconvert_exporter": "python",
   "pygments_lexer": "ipython3",
   "version": "3.11.8"
  }
 },
 "nbformat": 4,
 "nbformat_minor": 5
}
